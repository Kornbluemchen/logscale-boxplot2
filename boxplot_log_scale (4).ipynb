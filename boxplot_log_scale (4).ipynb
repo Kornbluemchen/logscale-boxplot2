{
 "cells": [
  {
   "cell_type": "markdown",
   "id": "02bd33d9",
   "metadata": {},
   "source": [
    "# Grouped Boxplot with Logarithmic y-Axis\n",
    "This notebook demonstrates how to create a grouped boxplot with a logarithmic y-axis using Python, matplotlib, and seaborn.\n",
    "We will generate synthetic data for three groups and visualize it."
   ]
  },
  {
   "cell_type": "code",
   "execution_count": null,
   "id": "0b61d308",
   "metadata": {},
   "outputs": [],
   "source": [
    "import numpy as np\n",
    "import pandas as pd\n",
    "import seaborn as sns\n",
    "import matplotlib.pyplot as plt"
   ]
  },
  {
   "cell_type": "code",
   "execution_count": null,
   "id": "a9009bad",
   "metadata": {},
   "outputs": [],
   "source": [
    "np.random.seed(42)"
   ]
  },
  {
   "cell_type": "code",
   "execution_count": null,
   "id": "d2d90d4b",
   "metadata": {},
   "outputs": [],
   "source": [
    "data = {\n",
    "    'Group': np.repeat(['A', 'B', 'C'], 100),\n",
    "    'Value': np.concatenate([\n",
    "        np.random.lognormal(mean=1, sigma=1, size=100),\n",
    "        np.random.lognormal(mean=1.5, sigma=1, size=100),\n",
    "        np.random.lognormal(mean=2, sigma=1, size=100)\n",
    "    ])\n",
    "}\n",
    "df = pd.DataFrame(data)\n",
    "df.head()"
   ]
  },
  {
   "cell_type": "code",
   "execution_count": null,
   "id": "c6c69d59",
   "metadata": {},
   "outputs": [],
   "source": [
    "plt.figure(figsize=(10, 6))\n",
    "sns.boxplot(x='Group', y='Value', data=df)\n",
    "plt.yscale('log')\n",
    "plt.title('Grouped Boxplot with Logarithmic y-Axis')\n",
    "plt.show()"
   ]
  }
 ],
 "metadata": {},
 "nbformat": 4,
 "nbformat_minor": 5
}
